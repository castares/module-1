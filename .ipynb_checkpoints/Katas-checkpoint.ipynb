{
 "cells": [
  {
   "cell_type": "markdown",
   "metadata": {},
   "source": [
    "#Kata 1: https://www.codewars.com/kata/if-you-cant-sleep-just-count-sheep/train/python"
   ]
  },
  {
   "cell_type": "code",
   "execution_count": 75,
   "metadata": {},
   "outputs": [],
   "source": [
    "#My solution\n",
    "def count_sheep(n):\n",
    "    sheeps = []\n",
    "    for i in range(1,n+1):\n",
    "        sheep = \"%d sheep...\" % i\n",
    "        sheeps.append(sheep)\n",
    "        counting_sheeps = \"\".join(sheeps)\n",
    "        \n",
    "    return counting_sheeps"
   ]
  },
  {
   "cell_type": "code",
   "execution_count": 77,
   "metadata": {},
   "outputs": [],
   "source": [
    "#Optimal solution:\n",
    "def count_sheep(n):\n",
    "    count = \"\"\n",
    "    for i in range(1, n+1):\n",
    "        count += str(i) + \" sheep...\"\n",
    "    return count\n"
   ]
  },
  {
   "cell_type": "code",
   "execution_count": 78,
   "metadata": {},
   "outputs": [
    {
     "data": {
      "text/plain": [
       "'1 sheep...2 sheep...3 sheep...4 sheep...5 sheep...6 sheep...7 sheep...8 sheep...'"
      ]
     },
     "execution_count": 78,
     "metadata": {},
     "output_type": "execute_result"
    }
   ],
   "source": [
    "count_sheep(8)"
   ]
  },
  {
   "cell_type": "markdown",
   "metadata": {},
   "source": [
    "Kata 2: https://www.codewars.com/kata/sum-mixed-array/train/python"
   ]
  },
  {
   "cell_type": "code",
   "execution_count": 66,
   "metadata": {},
   "outputs": [],
   "source": [
    "arr = [9,3,\"7\"]\n",
    "def sum_mix(arr):\n",
    "  suma = 0\n",
    "  for e in arr:\n",
    "      suma += int(e)\n",
    "  \n",
    "  return suma"
   ]
  },
  {
   "cell_type": "code",
   "execution_count": 68,
   "metadata": {
    "scrolled": true
   },
   "outputs": [
    {
     "data": {
      "text/plain": [
       "19"
      ]
     },
     "execution_count": 68,
     "metadata": {},
     "output_type": "execute_result"
    }
   ],
   "source": [
    "sum_mix(arr)"
   ]
  },
  {
   "cell_type": "markdown",
   "metadata": {},
   "source": [
    "Kata 3: https://www.codewars.com/kata/keep-hydrated-1/train/python"
   ]
  },
  {
   "cell_type": "code",
   "execution_count": null,
   "metadata": {},
   "outputs": [],
   "source": [
    "def litres(time):\n",
    "    return (int(0.5*time))"
   ]
  }
 ],
 "metadata": {
  "kernelspec": {
   "display_name": "Python 3",
   "language": "python",
   "name": "python3"
  },
  "language_info": {
   "codemirror_mode": {
    "name": "ipython",
    "version": 3
   },
   "file_extension": ".py",
   "mimetype": "text/x-python",
   "name": "python",
   "nbconvert_exporter": "python",
   "pygments_lexer": "ipython3",
   "version": "3.7.4"
  }
 },
 "nbformat": 4,
 "nbformat_minor": 2
}

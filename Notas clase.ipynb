{
 "cells": [
  {
   "cell_type": "code",
   "execution_count": 2,
   "metadata": {},
   "outputs": [
    {
     "name": "stdout",
     "output_type": "stream",
     "text": [
      "1 a True\n",
      "2 b False\n",
      "3 c True\n",
      "4 d False\n"
     ]
    }
   ],
   "source": [
    "a = (1,2,3,4)\n",
    "b = [\"a\", \"b\", \"c\", \"d\", \"e\"]\n",
    "c = [True, False, True, False]\n",
    "\n",
    "for x, y, z in zip(a,b,c):\n",
    "    print(x, y, z)"
   ]
  },
  {
   "cell_type": "code",
   "execution_count": 4,
   "metadata": {},
   "outputs": [
    {
     "data": {
      "text/plain": [
       "int"
      ]
     },
     "execution_count": 4,
     "metadata": {},
     "output_type": "execute_result"
    }
   ],
   "source": [
    "a = [0]\n",
    "\n",
    "if a[0]:\n",
    "    "
   ]
  },
  {
   "cell_type": "code",
   "execution_count": 12,
   "metadata": {},
   "outputs": [],
   "source": [
    "#Comprehension lists\n",
    "\n",
    "lst = list(range(10000))\n",
    "i =[i for i in lst if i %2 == 0]"
   ]
  },
  {
   "cell_type": "code",
   "execution_count": null,
   "metadata": {},
   "outputs": [],
   "source": [
    "a = np.random.random((5,2,3))"
   ]
  },
  {
   "cell_type": "code",
   "execution_count": 58,
   "metadata": {},
   "outputs": [
    {
     "name": "stdout",
     "output_type": "stream",
     "text": [
      "[[[0.06228292 0.56108428 0.05915523]\n",
      "  [0.83626047 0.64766806 0.50279616]]\n",
      "\n",
      " [[0.38891467 0.8639832  0.11908124]\n",
      "  [0.00431914 0.17716779 0.88819138]]\n",
      "\n",
      " [[0.1009202  0.79729151 0.09183432]\n",
      "  [0.6388499  0.64295348 0.92233578]]\n",
      "\n",
      " [[0.75177468 0.43934877 0.98703869]\n",
      "  [0.01470279 0.52278271 0.78310385]]\n",
      "\n",
      " [[0.91137718 0.73498583 0.17939329]\n",
      "  [0.04793165 0.14739115 0.98208601]]]\n",
      "----------------\n",
      "[[[0.04793165]]]\n"
     ]
    }
   ],
   "source": [
    "import numpy as np\n",
    "\n",
    "print(a)\n",
    "print(\"----------------\")\n",
    "b = np.mean(a, axis=2)\n",
    "c = a[4:5,1:2,0:1]\n",
    "print(c)"
   ]
  }
 ],
 "metadata": {
  "kernelspec": {
   "display_name": "Python 3",
   "language": "python",
   "name": "python3"
  },
  "language_info": {
   "codemirror_mode": {
    "name": "ipython",
    "version": 3
   },
   "file_extension": ".py",
   "mimetype": "text/x-python",
   "name": "python",
   "nbconvert_exporter": "python",
   "pygments_lexer": "ipython3",
   "version": "3.7.4"
  }
 },
 "nbformat": 4,
 "nbformat_minor": 2
}

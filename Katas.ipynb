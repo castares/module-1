{
 "cells": [
  {
   "cell_type": "markdown",
   "metadata": {},
   "source": [
    "#Kata 1: https://www.codewars.com/kata/if-you-cant-sleep-just-count-sheep/train/python"
   ]
  },
  {
   "cell_type": "code",
   "execution_count": 75,
   "metadata": {},
   "outputs": [],
   "source": [
    "#My solution\n",
    "def count_sheep(n):\n",
    "    sheeps = []\n",
    "    for i in range(1,n+1):\n",
    "        sheep = \"%d sheep...\" % i\n",
    "        sheeps.append(sheep)\n",
    "        counting_sheeps = \"\".join(sheeps)\n",
    "        \n",
    "    return counting_sheeps"
   ]
  },
  {
   "cell_type": "code",
   "execution_count": 77,
   "metadata": {},
   "outputs": [],
   "source": [
    "#Optimal solution:\n",
    "def count_sheep(n):\n",
    "    count = \"\"\n",
    "    for i in range(1, n+1):\n",
    "        count += str(i) + \" sheep...\"\n",
    "    return count\n"
   ]
  },
  {
   "cell_type": "code",
   "execution_count": 78,
   "metadata": {},
   "outputs": [
    {
     "data": {
      "text/plain": [
       "'1 sheep...2 sheep...3 sheep...4 sheep...5 sheep...6 sheep...7 sheep...8 sheep...'"
      ]
     },
     "execution_count": 78,
     "metadata": {},
     "output_type": "execute_result"
    }
   ],
   "source": [
    "count_sheep(8)"
   ]
  },
  {
   "cell_type": "markdown",
   "metadata": {},
   "source": [
    "Kata 2: https://www.codewars.com/kata/sum-mixed-array/train/python"
   ]
  },
  {
   "cell_type": "code",
   "execution_count": 66,
   "metadata": {},
   "outputs": [],
   "source": [
    "arr = [9,3,\"7\"]\n",
    "def sum_mix(arr):\n",
    "  suma = 0\n",
    "  for e in arr:\n",
    "      suma += int(e)\n",
    "  \n",
    "  return suma"
   ]
  },
  {
   "cell_type": "code",
   "execution_count": 68,
   "metadata": {
    "scrolled": true
   },
   "outputs": [
    {
     "data": {
      "text/plain": [
       "19"
      ]
     },
     "execution_count": 68,
     "metadata": {},
     "output_type": "execute_result"
    }
   ],
   "source": [
    "sum_mix(arr)"
   ]
  },
  {
   "cell_type": "markdown",
   "metadata": {},
   "source": [
    "Kata 3: https://www.codewars.com/kata/keep-hydrated-1/train/python"
   ]
  },
  {
   "cell_type": "code",
   "execution_count": null,
   "metadata": {},
   "outputs": [],
   "source": [
    "def litres(time):\n",
    "    return (int(0.5*time))"
   ]
  },
  {
   "cell_type": "markdown",
   "metadata": {},
   "source": [
    "Kata 3: https://www.codewars.com/kata/tests-results/train/python"
   ]
  },
  {
   "cell_type": "code",
   "execution_count": 15,
   "metadata": {},
   "outputs": [
    {
     "data": {
      "text/plain": [
       "[7.167, {'h': 2, 'a': 2, 'l': 2}]"
      ]
     },
     "execution_count": 15,
     "metadata": {},
     "output_type": "execute_result"
    }
   ],
   "source": [
    "def test(r):\n",
    "    marks = {\n",
    "        \"h\" : 0,\n",
    "        \"a\" : 0,\n",
    "        \"l\" : 0,\n",
    "        }\n",
    "    for e in r:\n",
    "        if e >= 9:\n",
    "            marks[\"h\"] += 1 \n",
    "        elif e >= 7:\n",
    "            marks[\"a\"] += 1\n",
    "        else:\n",
    "            marks[\"l\"] += 1\n",
    "    if (marks[\"h\"] != 0) & (marks[\"a\"] == 0) & (marks[\"l\"] == 0):\n",
    "        return [round(sum(r)/len(r),3), marks, \"They did well\"]\n",
    "    else: \n",
    "        return [round(sum(r)/len(r),3), marks]\n",
    "test([5,4,9,7,8, 10])"
   ]
  },
  {
   "cell_type": "code",
   "execution_count": 17,
   "metadata": {},
   "outputs": [
    {
     "data": {
      "text/plain": [
       "[9.5, {'l': 0, 'a': 0, 'h': 2}, 'They did well']"
      ]
     },
     "execution_count": 17,
     "metadata": {},
     "output_type": "execute_result"
    }
   ],
   "source": [
    "#Optimal solution: \n",
    "from statistics import mean\n",
    "\n",
    "def test(r):\n",
    "    dct = {'l': 0, 'a': 0, 'h': 0}\n",
    "    for n in r: dct[ 'lah'[(n>6) + (n>8)] ] += 1\n",
    "    return [round(mean(r), 3), dct] + ['They did well'] * (sum(dct.values()) == dct['h'])\n",
    "\n",
    "test([9, 10])"
   ]
  },
  {
   "cell_type": "code",
   "execution_count": 16,
   "metadata": {},
   "outputs": [],
   "source": [
    "def count_arara(n):\n",
    "    numbers = [] \n",
    "    while n > 0:\n",
    "        if n > 1:\n",
    "            numbers.append(\"adak\")\n",
    "            n -= 2\n",
    "        if n == 1:\n",
    "            numbers.append(\"anane\")\n",
    "            n -=1\n",
    "    print(n%2)\n",
    "    return \" \".join(numbers)"
   ]
  },
  {
   "cell_type": "code",
   "execution_count": 30,
   "metadata": {},
   "outputs": [
    {
     "data": {
      "text/plain": [
       "'anane'"
      ]
     },
     "execution_count": 30,
     "metadata": {},
     "output_type": "execute_result"
    }
   ],
   "source": [
    "count_arara(1)"
   ]
  },
  {
   "cell_type": "code",
   "execution_count": 29,
   "metadata": {},
   "outputs": [],
   "source": [
    "def count_arara(n):\n",
    "    return ' '.join(['adak'] * int(n / 2) + ['anane'] * int(n % 2))"
   ]
  }
 ],
 "metadata": {
  "kernelspec": {
   "display_name": "Python 3",
   "language": "python",
   "name": "python3"
  },
  "language_info": {
   "codemirror_mode": {
    "name": "ipython",
    "version": 3
   },
   "file_extension": ".py",
   "mimetype": "text/x-python",
   "name": "python",
   "nbconvert_exporter": "python",
   "pygments_lexer": "ipython3",
   "version": "3.7.4"
  }
 },
 "nbformat": 4,
 "nbformat_minor": 2
}
